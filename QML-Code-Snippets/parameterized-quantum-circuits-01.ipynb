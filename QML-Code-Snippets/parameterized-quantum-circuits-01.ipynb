{
 "cells": [
  {
   "cell_type": "code",
   "execution_count": 3,
   "id": "738f7855-7036-4c6f-aac2-e69a2c44c836",
   "metadata": {},
   "outputs": [
    {
     "data": {
      "image/png": "[encoded data removed]",
      "text/plain": [
       "<Figure size 206.852x144.48 with 1 Axes>"
      ]
     },
     "execution_count": 3,
     "metadata": {},
     "output_type": "execute_result"
    }
   ],
   "source": [
    "from qiskit.circuit import QuantumCircuit, Parameter\n",
    "theta = Parameter('θ')\n",
    "\n",
    "qc = QuantumCircuit(2)\n",
    "qc.rz(theta, 0)\n",
    "qc.crz(theta, 0, 1)\n",
    "qc.draw()"
   ]
  },
  {
   "cell_type": "code",
   "execution_count": 4,
   "id": "52ed6ba8-a829-4b31-8df4-fa58745daaf6",
   "metadata": {},
   "outputs": [
    {
     "data": {
      "image/png": "[encoded data removed]",
      "text/plain": [
       "<Figure size 206.852x144.48 with 1 Axes>"
      ]
     },
     "execution_count": 4,
     "metadata": {},
     "output_type": "execute_result"
    }
   ],
   "source": [
    "from qiskit.circuit import ParameterVector\n",
    "theta_list = ParameterVector('θ', length=2)\n",
    "\n",
    "qc = QuantumCircuit(2)\n",
    "qc.rz(theta_list[0], 0)\n",
    "qc.crz(theta_list[1], 0, 1)\n",
    "qc.draw()"
   ]
  },
  {
   "cell_type": "code",
   "execution_count": null,
   "id": "80849172-adce-4c8e-9862-54446977553f",
   "metadata": {},
   "outputs": [],
   "source": []
  }
 ],
 "metadata": {
  "kernelspec": {
   "display_name": "Python 3 (ipykernel)",
   "language": "python",
   "name": "python3"
  },
  "language_info": {
   "codemirror_mode": {
    "name": "ipython",
    "version": 3
   },
   "file_extension": ".py",
   "mimetype": "text/x-python",
   "name": "python",
   "nbconvert_exporter": "python",
   "pygments_lexer": "ipython3",
   "version": "3.8.13"
  },
  "widgets": {
   "application/vnd.jupyter.widget-state+json": {
    "state": {
     "0336dc8b417e48fba224345e7461d91b": {
      "model_module": "@jupyter-widgets/base",
      "model_module_version": "1.2.0",
      "model_name": "LayoutModel",
      "state": {
       "margin": "0px 0px 10px 0px"
      }
     },
     "1704d4d495fc478dbf5b373005e4c755": {
      "model_module": "@jupyter-widgets/controls",
      "model_module_version": "1.5.0",
      "model_name": "DescriptionStyleModel",
      "state": {
       "description_width": ""
      }
     },
     "2b4e426181e14f90b53ca5fcd1af6a90": {
      "model_module": "@jupyter-widgets/controls",
      "model_module_version": "1.5.0",
      "model_name": "HTMLModel",
      "state": {
       "layout": "IPY_MODEL_2bfece4b76ce4c4194d47082ce2fa420",
       "style": "IPY_MODEL_95db9be3151c4c6f9ed5db94ec5d8fba",
       "value": "<h5>Message</h5>"
      }
     },
     "2bfece4b76ce4c4194d47082ce2fa420": {
      "model_module": "@jupyter-widgets/base",
      "model_module_version": "1.2.0",
      "model_name": "LayoutModel",
      "state": {}
     },
     "2fe1d9099c0c495abde29c174b8a2e5d": {
      "model_module": "@jupyter-widgets/controls",
      "model_module_version": "1.5.0",
      "model_name": "HTMLModel",
      "state": {
       "layout": "IPY_MODEL_3aee1d7bc30f4c6daa04053628953cf8",
       "style": "IPY_MODEL_699223b9e93f47bfb6ebf121048d605b",
       "value": "<h5>Job ID</h5>"
      }
     },
     "3aee1d7bc30f4c6daa04053628953cf8": {
      "model_module": "@jupyter-widgets/base",
      "model_module_version": "1.2.0",
      "model_name": "LayoutModel",
      "state": {
       "width": "190px"
      }
     },
     "3e3b3b2a01d34cfda03f29d95f44cdfe": {
      "model_module": "@jupyter-widgets/base",
      "model_module_version": "1.2.0",
      "model_name": "LayoutModel",
      "state": {
       "grid_template_areas": "\n                                       \". . . . right \"\n                                        ",
       "grid_template_columns": "20% 20% 20% 20% 20%",
       "width": "100%"
      }
     },
     "3f8c89bf0ac04a2da9afb10b5c1b8b21": {
      "model_module": "@jupyter-widgets/base",
      "model_module_version": "1.2.0",
      "model_name": "LayoutModel",
      "state": {
       "width": "70px"
      }
     },
     "4076f57c82f74eecad67d28b89a2f070": {
      "model_module": "@jupyter-widgets/base",
      "model_module_version": "1.2.0",
      "model_name": "LayoutModel",
      "state": {
       "grid_area": "right",
       "padding": "0px 0px 0px 0px",
       "width": "70px"
      }
     },
     "459f11126fdc49be8aa8fd9db1db864e": {
      "model_module": "@jupyter-widgets/controls",
      "model_module_version": "1.5.0",
      "model_name": "DescriptionStyleModel",
      "state": {
       "description_width": ""
      }
     },
     "47831af5cc534db6840a0b4e752afb5c": {
      "model_module": "@jupyter-widgets/controls",
      "model_module_version": "1.5.0",
      "model_name": "DescriptionStyleModel",
      "state": {
       "description_width": ""
      }
     },
     "47f601957d54444ebe57e95f4ada14b4": {
      "model_module": "@jupyter-widgets/controls",
      "model_module_version": "1.5.0",
      "model_name": "ButtonStyleModel",
      "state": {}
     },
     "4aca862e48e84c5696b928552bee81ba": {
      "model_module": "@jupyter-widgets/controls",
      "model_module_version": "1.5.0",
      "model_name": "DescriptionStyleModel",
      "state": {
       "description_width": ""
      }
     },
     "665d877e0be14366bf20dd946b9ba84c": {
      "model_module": "@jupyter-widgets/base",
      "model_module_version": "1.2.0",
      "model_name": "LayoutModel",
      "state": {
       "width": "95px"
      }
     },
     "699223b9e93f47bfb6ebf121048d605b": {
      "model_module": "@jupyter-widgets/controls",
      "model_module_version": "1.5.0",
      "model_name": "DescriptionStyleModel",
      "state": {
       "description_width": ""
      }
     },
     "8ba487bb005245cb864919ec8ab0ab08": {
      "model_module": "@jupyter-widgets/controls",
      "model_module_version": "1.5.0",
      "model_name": "HTMLModel",
      "state": {
       "layout": "IPY_MODEL_3f8c89bf0ac04a2da9afb10b5c1b8b21",
       "style": "IPY_MODEL_4aca862e48e84c5696b928552bee81ba",
       "value": "<h5>Queue</h5>"
      }
     },
     "95db9be3151c4c6f9ed5db94ec5d8fba": {
      "model_module": "@jupyter-widgets/controls",
      "model_module_version": "1.5.0",
      "model_name": "DescriptionStyleModel",
      "state": {
       "description_width": ""
      }
     },
     "96b7b636d8c14ecdbbfe402c210a7513": {
      "model_module": "@jupyter-widgets/controls",
      "model_module_version": "1.5.0",
      "model_name": "GridBoxModel",
      "state": {
       "children": [
        "IPY_MODEL_fc24aea382384edb80ada03a3825af55"
       ],
       "layout": "IPY_MODEL_3e3b3b2a01d34cfda03f29d95f44cdfe"
      }
     },
     "a0e5d0cdb56340d19803be0f5c027103": {
      "model_module": "@jupyter-widgets/controls",
      "model_module_version": "1.5.0",
      "model_name": "HTMLModel",
      "state": {
       "layout": "IPY_MODEL_bb334e9b9ecf4e62859c95c9d8737d5b",
       "style": "IPY_MODEL_47831af5cc534db6840a0b4e752afb5c",
       "value": "<h5>Backend</h5>"
      }
     },
     "bb334e9b9ecf4e62859c95c9d8737d5b": {
      "model_module": "@jupyter-widgets/base",
      "model_module_version": "1.2.0",
      "model_name": "LayoutModel",
      "state": {
       "width": "145px"
      }
     },
     "cbf96b272a204edc8c87639dcd26aea6": {
      "model_module": "@jupyter-widgets/controls",
      "model_module_version": "1.5.0",
      "model_name": "HBoxModel",
      "state": {
       "children": [
        "IPY_MODEL_2fe1d9099c0c495abde29c174b8a2e5d",
        "IPY_MODEL_a0e5d0cdb56340d19803be0f5c027103",
        "IPY_MODEL_ccb7c46b4c1943fe8f2df3f473b6d7a7",
        "IPY_MODEL_8ba487bb005245cb864919ec8ab0ab08",
        "IPY_MODEL_2b4e426181e14f90b53ca5fcd1af6a90"
       ],
       "layout": "IPY_MODEL_fa91a6d41bd54dc7a479041101e8e86d"
      }
     },
     "ccb7c46b4c1943fe8f2df3f473b6d7a7": {
      "model_module": "@jupyter-widgets/controls",
      "model_module_version": "1.5.0",
      "model_name": "HTMLModel",
      "state": {
       "layout": "IPY_MODEL_665d877e0be14366bf20dd946b9ba84c",
       "style": "IPY_MODEL_1704d4d495fc478dbf5b373005e4c755",
       "value": "<h5>Status</h5>"
      }
     },
     "d0fc6148218a43f281bd8502eecad4b8": {
      "model_module": "@jupyter-widgets/controls",
      "model_module_version": "1.5.0",
      "model_name": "HTMLModel",
      "state": {
       "layout": "IPY_MODEL_0336dc8b417e48fba224345e7461d91b",
       "style": "IPY_MODEL_459f11126fdc49be8aa8fd9db1db864e",
       "value": "<p style='font-family: IBM Plex Sans, Arial, Helvetica, sans-serif; font-size: 20px; font-weight: medium;'>Circuit Properties</p>"
      }
     },
     "fa91a6d41bd54dc7a479041101e8e86d": {
      "model_module": "@jupyter-widgets/base",
      "model_module_version": "1.2.0",
      "model_name": "LayoutModel",
      "state": {
       "margin": "0px 0px 0px 37px",
       "width": "600px"
      }
     },
     "fc24aea382384edb80ada03a3825af55": {
      "model_module": "@jupyter-widgets/controls",
      "model_module_version": "1.5.0",
      "model_name": "ButtonModel",
      "state": {
       "button_style": "primary",
       "description": "Clear",
       "layout": "IPY_MODEL_4076f57c82f74eecad67d28b89a2f070",
       "style": "IPY_MODEL_47f601957d54444ebe57e95f4ada14b4"
      }
     }
    },
    "version_major": 2,
    "version_minor": 0
   }
  }
 },
 "nbformat": 4,
 "nbformat_minor": 5
}
